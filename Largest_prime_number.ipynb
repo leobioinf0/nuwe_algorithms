{
  "nbformat": 4,
  "nbformat_minor": 0,
  "metadata": {
    "colab": {
      "provenance": [],
      "toc_visible": true,
      "authorship_tag": "ABX9TyOMPAUIpVml2qOU1YqtIGzo",
      "include_colab_link": true
    },
    "kernelspec": {
      "name": "python3",
      "display_name": "Python 3"
    },
    "language_info": {
      "name": "python"
    }
  },
  "cells": [
    {
      "cell_type": "markdown",
      "metadata": {
        "id": "view-in-github",
        "colab_type": "text"
      },
      "source": [
        "<a href=\"https://colab.research.google.com/github/leobioinf0/nuwe_algorithms/blob/main/Largest_prime_number.ipynb\" target=\"_parent\"><img src=\"https://colab.research.google.com/assets/colab-badge.svg\" alt=\"Open In Colab\"/></a>"
      ]
    },
    {
      "cell_type": "markdown",
      "source": [
        "# Largest prime number\n",
        "\n",
        "The prime factors of 13195 are 5, 7, 13 and 29.\n",
        "\n",
        "What is the largest prime factor of the number 600851475143 ?"
      ],
      "metadata": {
        "id": "1VOuXO2OYLM7"
      }
    },
    {
      "cell_type": "code",
      "source": [
        "def prime_fact(x):\n",
        "    prime_factors = []\n",
        "    divisor = 2\n",
        "    while divisor <= x:\n",
        "        if x%divisor == 0:\n",
        "            prime_factors.append(divisor)\n",
        "            x = x/divisor \n",
        "        else:\n",
        "            divisor += 1\n",
        "    return prime_factors[-1]"
      ],
      "metadata": {
        "id": "sUBzYZx3XDUp"
      },
      "execution_count": 25,
      "outputs": []
    },
    {
      "cell_type": "code",
      "source": [
        "prime_fact(600851475143)"
      ],
      "metadata": {
        "colab": {
          "base_uri": "https://localhost:8080/"
        },
        "id": "NX77j0XQY1U0",
        "outputId": "cc44ec98-6f36-46ac-e8f8-c1697f454c19"
      },
      "execution_count": 27,
      "outputs": [
        {
          "output_type": "execute_result",
          "data": {
            "text/plain": [
              "6857"
            ]
          },
          "metadata": {},
          "execution_count": 27
        }
      ]
    }
  ]
}