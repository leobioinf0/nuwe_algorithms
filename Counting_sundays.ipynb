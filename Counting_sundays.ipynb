{
  "nbformat": 4,
  "nbformat_minor": 0,
  "metadata": {
    "colab": {
      "provenance": [],
      "authorship_tag": "ABX9TyNrYPjtTRqrhwmQuPxlxSmc",
      "include_colab_link": true
    },
    "kernelspec": {
      "name": "python3",
      "display_name": "Python 3"
    },
    "language_info": {
      "name": "python"
    }
  },
  "cells": [
    {
      "cell_type": "markdown",
      "metadata": {
        "id": "view-in-github",
        "colab_type": "text"
      },
      "source": [
        "<a href=\"https://colab.research.google.com/github/leobioinf0/nuwe_algorithms/blob/main/Counting_sundays.ipynb\" target=\"_parent\"><img src=\"https://colab.research.google.com/assets/colab-badge.svg\" alt=\"Open In Colab\"/></a>"
      ]
    },
    {
      "cell_type": "markdown",
      "source": [
        "# Counting Sundays\n",
        "\n",
        "You are given the following information, but you may prefer to do some research for yourself.\n",
        "\n",
        "1 Jan 1900 was a Monday.\n",
        "\n",
        "Thirty days has September, April, June and November. All the rest have thirty-one, Saving February alone, Which has twenty-eight, rain or shine. And on leap years, twenty-nine.\n",
        "\n",
        "A leap year occurs on any year evenly divisible by 4, but not on a century unless it is divisible by 400. How many Sundays fell on the first of the month during the twentieth century (1 Jan 1901 to 31 Dec 2000)?"
      ],
      "metadata": {
        "id": "tJR_Q6diK3FP"
      }
    },
    {
      "cell_type": "code",
      "source": [
        "def day_of_week(year, month, day):\n",
        "    \"\"\"\n",
        "    Tomohiko Sakamoto’s Algorithm\n",
        "    \"\"\"\n",
        "    weekdays=[\"Monday\", \"Tuesday\", \"Wednesday\", \"Thursday\", \"Friday\", \"Saturday\", \"Sunday\"]\n",
        "    t = [0, 3, 2, 5, 0, 3, 5, 1, 4, 6, 2, 4]\n",
        "    year -= month < 3\n",
        "    return weekdays[((year + int(year/4) - int(year/100) + int(year/400) + t[month-1] + day) % 7)-1]\n",
        "\n",
        "def sun_counter(start=1901, end=2000):\n",
        "    count=0\n",
        "    for year in range(start,end+1):\n",
        "        for month in range(1,13):\n",
        "            weekday = day_of_week(year, month, 1)\n",
        "            if weekday == \"Sunday\":\n",
        "                count +=1\n",
        "    return(count)"
      ],
      "metadata": {
        "id": "Vx-c0PKE92AB"
      },
      "execution_count": 11,
      "outputs": []
    },
    {
      "cell_type": "code",
      "source": [
        "# Sundays on the first of the month from 1901 to 2000\n",
        "sun_counter()"
      ],
      "metadata": {
        "colab": {
          "base_uri": "https://localhost:8080/"
        },
        "id": "37elm4FkEN0H",
        "outputId": "15b9700e-758d-4a44-8730-da3d37e67f52"
      },
      "execution_count": 18,
      "outputs": [
        {
          "output_type": "execute_result",
          "data": {
            "text/plain": [
              "171"
            ]
          },
          "metadata": {},
          "execution_count": 18
        }
      ]
    }
  ]
}