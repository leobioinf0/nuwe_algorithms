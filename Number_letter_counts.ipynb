{
  "nbformat": 4,
  "nbformat_minor": 0,
  "metadata": {
    "colab": {
      "provenance": [],
      "authorship_tag": "ABX9TyPerFjte947tOLRo9sqikDS",
      "include_colab_link": true
    },
    "kernelspec": {
      "name": "python3",
      "display_name": "Python 3"
    },
    "language_info": {
      "name": "python"
    }
  },
  "cells": [
    {
      "cell_type": "markdown",
      "metadata": {
        "id": "view-in-github",
        "colab_type": "text"
      },
      "source": [
        "<a href=\"https://colab.research.google.com/github/leobioinf0/nuwe_algorithms/blob/main/Number_letter_counts.ipynb\" target=\"_parent\"><img src=\"https://colab.research.google.com/assets/colab-badge.svg\" alt=\"Open In Colab\"/></a>"
      ]
    },
    {
      "cell_type": "markdown",
      "source": [
        "# Number letter counts\n",
        "\n",
        "If the numbers 1 to 5 are written out in words: one, two, three, four, five, then there are 3 + 3 + 5 + 4 + 4 = 19 letters used in total.\n",
        "\n",
        "If all the numbers from 1 to 1000 (one thousand) inclusive were written out in words, how many letters would be used?\n",
        "\n",
        "NOTE: Do not count spaces or hyphens. For example, 342 (three hundred and forty-two) contains 23 letters and 115 (one hundred and fifteen) contains 20 letters. The use of \"and\" when writing out numbers is in compliance with British usage."
      ],
      "metadata": {
        "id": "kI455zvLzi_W"
      }
    },
    {
      "cell_type": "code",
      "source": [
        "numwords = {1000:\"thousand\", \n",
        "            100:\"hundred\", \n",
        "            90:\"ninety\", \n",
        "            80:\"eighty\",\n",
        "            70:\"seventy\",\n",
        "            60:\"sixty\", \n",
        "            50:\"fifty\", \n",
        "            40:\"forty\", \n",
        "            30:\"thirty\",\n",
        "            20:\"twenty\",\n",
        "            19:\"nineteen\",\n",
        "            18:\"eighteen\",\n",
        "            17:\"seventeen\",\n",
        "            16:\"sixteen\", \n",
        "            15:\"fifteen\", \n",
        "            14:\"fourteen\", \n",
        "            13:\"thirteen\",\n",
        "            12:\"twelve\", \n",
        "            11:\"eleven\", \n",
        "            10:\"ten\", \n",
        "            9:\"nine\", \n",
        "            8:\"eight\",\n",
        "            7:\"seven\", \n",
        "            6:\"six\", \n",
        "            5:\"five\", \n",
        "            4:\"four\", \n",
        "            3:\"three\", \n",
        "            2:\"two\",\n",
        "            1:\"one\", \n",
        "            0:\"zero\"\n",
        "            }"
      ],
      "metadata": {
        "id": "fpfAECkMu3-4"
      },
      "execution_count": 5,
      "outputs": []
    },
    {
      "cell_type": "code",
      "source": [
        "def number_letter_counts(number=1000):\n",
        "    def lownum(n):\n",
        "        if n in numwords.keys():\n",
        "            return(\"{}\".format(numwords[n]))\n",
        "        else:\n",
        "            return(\"{}{}\".format(numwords[n - int(str(n)[1])],numwords[int(str(n)[1])]))\n",
        "\n",
        "    count=0    \n",
        "    for n in range(1,number+1):\n",
        "        leng = len(str(n))\n",
        "        if leng == 4:\n",
        "            count+=len(\"onethousand\")\n",
        "        elif leng == 3:\n",
        "            if n in numwords.keys():\n",
        "                count+=len(\"{}thousand\".format(lownum(int(str(n)[0]))))\n",
        "            else:\n",
        "                count+=len(\"{}hundredand{}\".format(lownum(int(str(n)[0])),lownum(int(str(n)[1:]))))\n",
        "        else:\n",
        "            count+=len(lownum(n))\n",
        "    print(count)"
      ],
      "metadata": {
        "id": "bStG2hinrXWY"
      },
      "execution_count": 6,
      "outputs": []
    },
    {
      "cell_type": "code",
      "source": [
        "# letters used from 1 to 5\n",
        "number_letter_counts(number=5)"
      ],
      "metadata": {
        "colab": {
          "base_uri": "https://localhost:8080/"
        },
        "id": "RVa2IoLjs7oo",
        "outputId": "571193cc-eaf8-4e2b-dcac-0552ecf2ba36"
      },
      "execution_count": 7,
      "outputs": [
        {
          "output_type": "stream",
          "name": "stdout",
          "text": [
            "19\n"
          ]
        }
      ]
    },
    {
      "cell_type": "code",
      "source": [
        "# letters used from 1 to 1000\n",
        "number_letter_counts(number=1000)"
      ],
      "metadata": {
        "colab": {
          "base_uri": "https://localhost:8080/"
        },
        "id": "OuItHGPWuq2_",
        "outputId": "2a02480f-fc6c-4db2-d787-dd437cd9e21f"
      },
      "execution_count": 8,
      "outputs": [
        {
          "output_type": "stream",
          "name": "stdout",
          "text": [
            "21181\n"
          ]
        }
      ]
    }
  ]
}