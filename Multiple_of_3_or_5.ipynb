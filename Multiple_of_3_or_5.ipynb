{
  "nbformat": 4,
  "nbformat_minor": 0,
  "metadata": {
    "colab": {
      "provenance": [],
      "authorship_tag": "ABX9TyOChove1oHPJg2Px0KWBTAc",
      "include_colab_link": true
    },
    "kernelspec": {
      "name": "python3",
      "display_name": "Python 3"
    },
    "language_info": {
      "name": "python"
    }
  },
  "cells": [
    {
      "cell_type": "markdown",
      "metadata": {
        "id": "view-in-github",
        "colab_type": "text"
      },
      "source": [
        "<a href=\"https://colab.research.google.com/github/leobioinf0/nuwe_algorithms/blob/main/Multiple_of_3_or_5.ipynb\" target=\"_parent\"><img src=\"https://colab.research.google.com/assets/colab-badge.svg\" alt=\"Open In Colab\"/></a>"
      ]
    },
    {
      "cell_type": "markdown",
      "source": [
        "# Multiple of 3 or 5\n",
        "\n",
        "If we list all the natural numbers below 10 that are multiples of 3 or 5, we get 3, 5, 6 and 9. The sum of these multiples is 23.\n",
        "\n",
        "Find the sum of all the multiples of 3 or 5 below 1000."
      ],
      "metadata": {
        "id": "1TPvn_6kZiEz"
      }
    },
    {
      "cell_type": "code",
      "source": [
        "def get_multiples_sum(n):\n",
        "    l = list(range(1,n))\n",
        "    return(sum([i*j for i, j in zip([i==0 for i in [x*y for x,y in zip([i%3 for i in l],[i%5 for i in l])]],l)]))"
      ],
      "metadata": {
        "id": "MZNK9s9TNeNb"
      },
      "execution_count": 101,
      "outputs": []
    },
    {
      "cell_type": "code",
      "source": [
        "get_multiples_sum(1000)"
      ],
      "metadata": {
        "colab": {
          "base_uri": "https://localhost:8080/"
        },
        "id": "q9mROM38NePI",
        "outputId": "341fe09a-5c7d-4ad1-a697-5c5fb1c384ed"
      },
      "execution_count": 102,
      "outputs": [
        {
          "output_type": "execute_result",
          "data": {
            "text/plain": [
              "233168"
            ]
          },
          "metadata": {},
          "execution_count": 102
        }
      ]
    }
  ]
}