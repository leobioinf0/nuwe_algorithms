{
  "nbformat": 4,
  "nbformat_minor": 0,
  "metadata": {
    "colab": {
      "provenance": [],
      "authorship_tag": "ABX9TyP9/I9UkJWYlEewhNe12YeM",
      "include_colab_link": true
    },
    "kernelspec": {
      "name": "python3",
      "display_name": "Python 3"
    },
    "language_info": {
      "name": "python"
    }
  },
  "cells": [
    {
      "cell_type": "markdown",
      "metadata": {
        "id": "view-in-github",
        "colab_type": "text"
      },
      "source": [
        "<a href=\"https://colab.research.google.com/github/leobioinf0/nuwe_algorithms/blob/main/Amicable_numbers.ipynb\" target=\"_parent\"><img src=\"https://colab.research.google.com/assets/colab-badge.svg\" alt=\"Open In Colab\"/></a>"
      ]
    },
    {
      "cell_type": "markdown",
      "source": [
        "# Amicable numbers\n",
        "Let d(n) be defined as the sum of proper divisors of n (numbers less than n which divide evenly into n). If d(a) = b and d(b) = a, where a ≠ b, then a and b are an amicable pair and each of a and b are called amicable numbers.\n",
        "\n",
        "For example, the proper divisors of 220 are 1, 2, 4, 5, 10, 11, 20, 22, 44, 55 and 110; therefore d(220) = 284. The proper divisors of 284 are 1, 2, 4, 71 and 142; so d(284) = 220.\n",
        "\n",
        "Evaluate the sum of all the amicable numbers under 10000."
      ],
      "metadata": {
        "id": "dh7Jvl4AthzP"
      }
    },
    {
      "cell_type": "code",
      "source": [
        "def amicable_numbers(n):\n",
        "    def get_sum_divisors(x):\n",
        "        l=[]\n",
        "        for i in range(1, int(x / 2) + 1):\n",
        "            if x % i == 0:\n",
        "                l.append(i)\n",
        "        return(sum(l))\n",
        "    \n",
        "    for y in range(n):\n",
        "        if y == get_sum_divisors(get_sum_divisors(y)):\n",
        "            print(y)"
      ],
      "metadata": {
        "id": "p8Txj9F-wiEY"
      },
      "execution_count": 35,
      "outputs": []
    },
    {
      "cell_type": "code",
      "source": [
        "amicable_numbers(1000)"
      ],
      "metadata": {
        "colab": {
          "base_uri": "https://localhost:8080/"
        },
        "id": "nLfkC_-_v-YJ",
        "outputId": "201fa0d0-44bb-48b8-b8ee-3824f8e2690d"
      },
      "execution_count": 38,
      "outputs": [
        {
          "output_type": "stream",
          "name": "stdout",
          "text": [
            "0\n",
            "6\n",
            "28\n",
            "220\n",
            "284\n",
            "496\n"
          ]
        }
      ]
    }
  ]
}