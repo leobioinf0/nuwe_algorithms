{
  "nbformat": 4,
  "nbformat_minor": 0,
  "metadata": {
    "colab": {
      "provenance": [],
      "authorship_tag": "ABX9TyMoNO0z/BtEsjgFkr+RCykQ",
      "include_colab_link": true
    },
    "kernelspec": {
      "name": "python3",
      "display_name": "Python 3"
    },
    "language_info": {
      "name": "python"
    }
  },
  "cells": [
    {
      "cell_type": "markdown",
      "metadata": {
        "id": "view-in-github",
        "colab_type": "text"
      },
      "source": [
        "<a href=\"https://colab.research.google.com/github/leobioinf0/nuwe_algorithms/blob/main/Circular_challenge.ipynb\" target=\"_parent\"><img src=\"https://colab.research.google.com/assets/colab-badge.svg\" alt=\"Open In Colab\"/></a>"
      ]
    },
    {
      "cell_type": "markdown",
      "source": [
        "# Circular challenge\n",
        "\n",
        "The number, 197, is called a circular prime because all rotations of the digits: 197, 971, and 719, are themselves prime.\n",
        "\n",
        "There are thirteen such primes below 100: 2, 3, 5, 7, 11, 13, 17, 31, 37, 71, 73, 79, and 97.\n",
        "\n",
        "How many circular primes are there below one million?"
      ],
      "metadata": {
        "id": "gtVoDdSu6ojC"
      }
    },
    {
      "cell_type": "code",
      "source": [
        "def get_primes(N):\n",
        "    primes=[]\n",
        "    l = [1]*N\n",
        "    l[0] = l[1] = 0\n",
        "    i = 2\n",
        "    while i*i <= N:\n",
        "        if l[i] == 0:\n",
        "            i += 1\n",
        "            continue\n",
        "        j = 2*i\n",
        "        while j < N:\n",
        "            l[j] = 0\n",
        "            j += i\n",
        "        i += 1\n",
        "    for i in range(1, N):\n",
        "        if l[i] == 1:\n",
        "            primes.append(i)\n",
        "    return(primes)\n",
        "\n",
        "def get_circulations(n):\n",
        "    nstr=str(n)\n",
        "    length = len(nstr)\n",
        "    l=[]\n",
        "    for i in range(length-1):\n",
        "        nstr = nstr[-1]+nstr[:-1]\n",
        "        l.append(int(nstr))\n",
        "    return(l)\n",
        "    \n",
        "def get_circular_primes(n):\n",
        "    primes = get_primes(n)\n",
        "    circular_primes=[]\n",
        "    for prime in primes:\n",
        "        l2= [j in primes for j in get_circulations(prime)]\n",
        "        if all(l2):\n",
        "            circular_primes.append(prime)\n",
        "    return(circular_primes)"
      ],
      "metadata": {
        "id": "rQp6XhgCvs3-"
      },
      "execution_count": 62,
      "outputs": []
    },
    {
      "cell_type": "code",
      "source": [
        "# circular primes below 100\n",
        "print(get_circular_primes(100)) "
      ],
      "metadata": {
        "colab": {
          "base_uri": "https://localhost:8080/"
        },
        "id": "AEaZHtbl2zf4",
        "outputId": "f1c2b2fa-e67a-4b00-96a9-6b9f17ac67dc"
      },
      "execution_count": 75,
      "outputs": [
        {
          "output_type": "stream",
          "name": "stdout",
          "text": [
            "[2, 3, 5, 7, 11, 13, 17, 31, 37, 71, 73, 79, 97]\n"
          ]
        }
      ]
    },
    {
      "cell_type": "code",
      "source": [
        "# circular primes below 1000000 (6 minutes)\n",
        "print(get_circular_primes(1000000)) "
      ],
      "metadata": {
        "colab": {
          "base_uri": "https://localhost:8080/"
        },
        "id": "ZmDSd-SAzefC",
        "outputId": "8f6ba95c-2460-48ce-c9c3-2d0fd0a787e6"
      },
      "execution_count": 74,
      "outputs": [
        {
          "output_type": "stream",
          "name": "stdout",
          "text": [
            "[2, 3, 5, 7, 11, 13, 17, 31, 37, 71, 73, 79, 97, 113, 131, 197, 199, 311, 337, 373, 719, 733, 919, 971, 991, 1193, 1931, 3119, 3779, 7793, 7937, 9311, 9377, 11939, 19391, 19937, 37199, 39119, 71993, 91193, 93719, 93911, 99371, 193939, 199933, 319993, 331999, 391939, 393919, 919393, 933199, 939193, 939391, 993319, 999331]\n"
          ]
        }
      ]
    },
    {
      "cell_type": "markdown",
      "source": [
        "Circular primes\n",
        "\n",
        "`[2, 3, 5, 7, 11, 13, 17, 31, 37, 71, 73, 79, 97, 113, 131, 197, 199, 311, 337, 373, 719, 733, 919, 971, 991, 1193, 1931, 3119, 3779, 7793, 7937, 9311, 9377, 11939, 19391, 19937, 37199, 39119, 71993, 91193, 93719, 93911, 99371, 193939, 199933, 319993, 331999, 391939, 393919, 919393, 933199, 939193, 939391, 993319, 999331]`\n"
      ],
      "metadata": {
        "id": "0uFTJ5t_2SQO"
      }
    }
  ]
}