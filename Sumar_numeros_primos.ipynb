{
  "cells": [
    {
      "cell_type": "markdown",
      "metadata": {
        "id": "view-in-github",
        "colab_type": "text"
      },
      "source": [
        "<a href=\"https://colab.research.google.com/github/leobioinf0/nuwe_algorithms/blob/main/Sumar_numeros_primos.ipynb\" target=\"_parent\"><img src=\"https://colab.research.google.com/assets/colab-badge.svg\" alt=\"Open In Colab\"/></a>"
      ]
    },
    {
      "cell_type": "markdown",
      "metadata": {
        "id": "pYxOyxR4yWvx"
      },
      "source": [
        "# Sumar números primos\n",
        "\n",
        "The sum of the primes below 10 is 2 + 3 + 5 + 7 = 17.\n",
        "\n",
        "Find the sum of all the primes below two million."
      ]
    },
    {
      "cell_type": "markdown",
      "source": [
        "## Method 1"
      ],
      "metadata": {
        "id": "fYpRtTH7whmN"
      }
    },
    {
      "cell_type": "code",
      "execution_count": 55,
      "metadata": {
        "id": "aDS6DO6CzuSa"
      },
      "outputs": [],
      "source": [
        "def sum_primes(n):\n",
        "    count=0\n",
        "    for num in range(n):\n",
        "        if num > 1:\n",
        "            for i in range(2, num):\n",
        "                if (num % i) == 0: break\n",
        "            else:\n",
        "                count+=num\n",
        "    return(count)"
      ]
    },
    {
      "cell_type": "code",
      "execution_count": null,
      "metadata": {
        "colab": {
          "base_uri": "https://localhost:8080/"
        },
        "id": "ws8OGwKm0mvH",
        "outputId": "0b9da5d0-d6ee-441a-f57f-1c6a69202dc1"
      },
      "outputs": [
        {
          "data": {
            "text/plain": [
              "17"
            ]
          },
          "execution_count": 103,
          "metadata": {},
          "output_type": "execute_result"
        }
      ],
      "source": [
        "# sum of the primes below 10\n",
        "sum_primes(10)"
      ]
    },
    {
      "cell_type": "code",
      "execution_count": null,
      "metadata": {
        "colab": {
          "background_save": true
        },
        "id": "EWwBV1xm57GI",
        "outputId": "e7f2d386-4e22-46f9-b43b-da3d45884c58"
      },
      "outputs": [
        {
          "data": {
            "text/plain": [
              "142913828922"
            ]
          },
          "execution_count": 104,
          "metadata": {},
          "output_type": "execute_result"
        }
      ],
      "source": [
        "# sum of the primes below 2000000. (ATENTION: 1h 24m)\n",
        "sum_primes(2000000)"
      ]
    },
    {
      "cell_type": "markdown",
      "source": [
        "## Method 2"
      ],
      "metadata": {
        "id": "84rWM-HuwlYs"
      }
    },
    {
      "cell_type": "code",
      "source": [
        "def sum_primes_2(n):\n",
        "    \"\"\"\n",
        "    Criba de Eratóstenes\n",
        "    \"\"\"\n",
        "    count=0\n",
        "    l = [1]*n\n",
        "    l[0] = l[1] = 0\n",
        "    i = 2\n",
        "    while i*i <= n:\n",
        "        if l[i] == 0:\n",
        "            i += 1\n",
        "            continue\n",
        "        j = 2*i\n",
        "        while j < n:\n",
        "            l[j] = 0\n",
        "            j += i\n",
        "        i += 1\n",
        "    for i in range(1, n):\n",
        "        if l[i] == 1:\n",
        "            count+=i\n",
        "    return(count)                "
      ],
      "metadata": {
        "id": "R2VHnNiwETun"
      },
      "execution_count": 80,
      "outputs": []
    },
    {
      "cell_type": "code",
      "source": [
        "# sum of the primes below 10\n",
        "sum_primes_2(10)"
      ],
      "metadata": {
        "colab": {
          "base_uri": "https://localhost:8080/"
        },
        "id": "tnmRL7k6vlYr",
        "outputId": "3d6bdf35-3bc6-452d-cb5a-204b0a2f9ea3"
      },
      "execution_count": 83,
      "outputs": [
        {
          "output_type": "execute_result",
          "data": {
            "text/plain": [
              "17"
            ]
          },
          "metadata": {},
          "execution_count": 83
        }
      ]
    },
    {
      "cell_type": "code",
      "source": [
        "# sum of the primes below 2000000. (1 seg)\n",
        "sum_primes_2(2000000)"
      ],
      "metadata": {
        "colab": {
          "base_uri": "https://localhost:8080/"
        },
        "id": "jjUpHh1buU6I",
        "outputId": "c594673e-5e7f-4f0f-e3a2-97b2f69a0d8a"
      },
      "execution_count": 75,
      "outputs": [
        {
          "output_type": "execute_result",
          "data": {
            "text/plain": [
              "142913828922"
            ]
          },
          "metadata": {},
          "execution_count": 75
        }
      ]
    }
  ],
  "metadata": {
    "colab": {
      "provenance": [],
      "authorship_tag": "ABX9TyNq/S0Ee5UuSzJlbn7ri5rw",
      "include_colab_link": true
    },
    "kernelspec": {
      "display_name": "Python 3",
      "name": "python3"
    },
    "language_info": {
      "name": "python"
    }
  },
  "nbformat": 4,
  "nbformat_minor": 0
}