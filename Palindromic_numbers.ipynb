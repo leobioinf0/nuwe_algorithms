{
  "nbformat": 4,
  "nbformat_minor": 0,
  "metadata": {
    "colab": {
      "provenance": [],
      "authorship_tag": "ABX9TyMIux3ltJpi+XUkiXdvJ0Lg",
      "include_colab_link": true
    },
    "kernelspec": {
      "name": "python3",
      "display_name": "Python 3"
    },
    "language_info": {
      "name": "python"
    }
  },
  "cells": [
    {
      "cell_type": "markdown",
      "metadata": {
        "id": "view-in-github",
        "colab_type": "text"
      },
      "source": [
        "<a href=\"https://colab.research.google.com/github/leobioinf0/nuwe_algorithms/blob/main/Palindromic_numbers.ipynb\" target=\"_parent\"><img src=\"https://colab.research.google.com/assets/colab-badge.svg\" alt=\"Open In Colab\"/></a>"
      ]
    },
    {
      "cell_type": "markdown",
      "source": [
        "# Palindromic numbers\n",
        "\n",
        "A palindromic number reads the same both ways. The largest palindrome made from the product of two 2-digit numbers is 9009 = 91 × 99.\n",
        "\n",
        "Find the largest palindrome made from the product of two 3-digit numbers."
      ],
      "metadata": {
        "id": "l9SH3C_BbYqp"
      }
    },
    {
      "cell_type": "code",
      "source": [
        "def largest_palindrome(n):\n",
        "    l=[]\n",
        "    i=int(n*\"9\")\n",
        "    while i > int((n-1)*\"9\"):\n",
        "        j=int(n*\"9\")\n",
        "        while j > int((n-1)*\"9\"):\n",
        "            x =i * j\n",
        "            x =str(x)\n",
        "            lenx = len(x)\n",
        "            if lenx%2==0:\n",
        "                splt = int(lenx/2)\n",
        "            else:\n",
        "                splt = lenx//2\n",
        "            if x[:splt]==x[-splt:][::-1]:\n",
        "                x =int(x)\n",
        "                if x not in l:\n",
        "                    l.append(x)\n",
        "            j-=1\n",
        "        i-=1\n",
        "    l.sort()\n",
        "    return(l[-1])"
      ],
      "metadata": {
        "id": "GQr5ag9okXif"
      },
      "execution_count": 70,
      "outputs": []
    },
    {
      "cell_type": "code",
      "source": [
        "largest_palindrome(2)"
      ],
      "metadata": {
        "colab": {
          "base_uri": "https://localhost:8080/"
        },
        "id": "VUZwGn_kpCZZ",
        "outputId": "d8d3a59e-5a1e-4fa9-dece-f47ceb975fde"
      },
      "execution_count": 71,
      "outputs": [
        {
          "output_type": "execute_result",
          "data": {
            "text/plain": [
              "9009"
            ]
          },
          "metadata": {},
          "execution_count": 71
        }
      ]
    },
    {
      "cell_type": "code",
      "source": [
        "# Largest palindrome made from the product of two 3-digit numbers\n",
        "largest_palindrome(3)"
      ],
      "metadata": {
        "colab": {
          "base_uri": "https://localhost:8080/"
        },
        "id": "2NiH0DEEpHhK",
        "outputId": "2ab1bdb4-c133-4242-afee-bdccbce58f88"
      },
      "execution_count": 72,
      "outputs": [
        {
          "output_type": "execute_result",
          "data": {
            "text/plain": [
              "906609"
            ]
          },
          "metadata": {},
          "execution_count": 72
        }
      ]
    },
    {
      "cell_type": "code",
      "source": [
        "largest_palindrome(4)"
      ],
      "metadata": {
        "colab": {
          "base_uri": "https://localhost:8080/"
        },
        "id": "2FMiLylcpMWH",
        "outputId": "4878ae85-0450-4243-97c3-aede5f02978b"
      },
      "execution_count": 73,
      "outputs": [
        {
          "output_type": "execute_result",
          "data": {
            "text/plain": [
              "99000099"
            ]
          },
          "metadata": {},
          "execution_count": 73
        }
      ]
    }
  ]
}